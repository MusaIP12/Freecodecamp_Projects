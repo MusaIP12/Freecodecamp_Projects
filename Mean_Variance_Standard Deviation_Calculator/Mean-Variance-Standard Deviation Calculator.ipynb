{
 "cells": [
  {
   "cell_type": "markdown",
   "id": "538057ec",
   "metadata": {},
   "source": [
    "# Mean-Variance-Standard Deviation Calculator"
   ]
  },
  {
   "cell_type": "code",
   "execution_count": 1,
   "id": "2e28918d",
   "metadata": {},
   "outputs": [],
   "source": [
    "import pandas as pd\n",
    "import numpy as np"
   ]
  },
  {
   "cell_type": "code",
   "execution_count": 18,
   "id": "9fcf4e89-3bdf-4e32-b086-73b74360935d",
   "metadata": {},
   "outputs": [],
   "source": [
    "#List = [] \n",
    "#while len(List) < 9:\n",
    "    #A = int(input('Enter a number')) \n",
    "   # List.append(A)\n",
    "\n",
    "#print(List) "
   ]
  },
  {
   "cell_type": "code",
   "execution_count": null,
   "id": "14594d30",
   "metadata": {},
   "outputs": [],
   "source": []
  },
  {
   "cell_type": "code",
   "execution_count": 21,
   "id": "741b4f59",
   "metadata": {},
   "outputs": [],
   "source": [
    "def calculate (List):\n",
    " \n",
    "    result = {}\n",
    "    row_means, row_vars, row_stds, row_maxs, row_mins, row_sums = [], [], [], [], [], []\n",
    "    col_means, col_vars, col_stds, col_maxs, col_mins, col_sums = [], [], [], [], [], []\n",
    "\n",
    "    if len(List) < 9:\n",
    "        print(\"List must contain nine numbers\")\n",
    "    elif len(List) == 9:\n",
    "        c = np.array(List)\n",
    "        c = c.reshape(3,3)\n",
    "        print(c)\n",
    "        for r in range(0,3):\n",
    "            \n",
    "            row_mean = c[r].mean()\n",
    "            row_var = c[r].var()\n",
    "            row_std = c[r].std()\n",
    "            row_max = c[r].max()\n",
    "            row_min = c[r].min()\n",
    "            row_sum = c[r].sum()\n",
    "            \n",
    "            # Appending the row operations\n",
    "            row_means.append(row_mean)\n",
    "            row_vars.append(row_var)\n",
    "            row_stds.append(row_std)\n",
    "            row_maxs.append(row_max)\n",
    "            row_mins.append(row_min)\n",
    "            row_sums.append(row_sum)\n",
    "            \n",
    "            col_mean =c[:,r].mean()\n",
    "            col_var = c[:,r].var()\n",
    "            col_std = c[:,r].std()\n",
    "            col_max = c[:,r].max()\n",
    "            col_min = c[:,r].min()\n",
    "            col_sum = c[:,r].sum()\n",
    "            \n",
    "             # Appending the row operations\n",
    "            col_means.append(col_mean)\n",
    "            col_vars.append(col_var)\n",
    "            col_stds.append(col_std)\n",
    "            col_maxs.append(col_max)\n",
    "            col_mins.append(col_min)\n",
    "            col_sums.append(col_sum)\n",
    "        #print(row_means)\n",
    "        result[\"mean\"] = [col_means,row_means,c.mean()]\n",
    "        result[\"variance\"] = [row_vars,col_vars,c.var()]\n",
    "        result[\"standard deviation\"] = [row_stds,col_stds,c.std()]\n",
    "        result[\"max\"] = [row_maxs,col_maxs,c.max()]\n",
    "        result[\"min\"] = [row_mins,col_mins,c.min()]\n",
    "        result[\"sum\"] = [row_sums,col_sums,c.sum()]\n",
    "        print(result)\n"
   ]
  },
  {
   "cell_type": "code",
   "execution_count": 23,
   "id": "2ffef549",
   "metadata": {},
   "outputs": [
    {
     "name": "stdout",
     "output_type": "stream",
     "text": [
      "[[2 6 2]\n",
      " [8 4 0]\n",
      " [1 5 7]]\n",
      "{'mean': [[3.3333333333333335, 4.0, 4.333333333333333], [3.6666666666666665, 5.0, 3.0], 3.888888888888889], 'variance': [[3.555555555555556, 10.666666666666666, 6.222222222222221], [9.555555555555557, 0.6666666666666666, 8.666666666666666], 6.987654320987654], 'standard deviation': [[1.8856180831641267, 3.265986323710904, 2.494438257849294], [3.091206165165235, 0.816496580927726, 2.943920288775949], 2.6434171674156266], 'max': [[6, 8, 7], [8, 6, 7], 8], 'min': [[2, 0, 1], [1, 4, 0], 0], 'sum': [[10, 12, 13], [11, 15, 9], 35]}\n"
     ]
    }
   ],
   "source": [
    "calculate([2,6,2,8,4,0,1,5,7])"
   ]
  },
  {
   "cell_type": "code",
   "execution_count": null,
   "id": "9b7b1d3a",
   "metadata": {},
   "outputs": [],
   "source": [
    "def imput([]):\n",
    "    pri"
   ]
  }
 ],
 "metadata": {
  "kernelspec": {
   "display_name": "Python 3 (ipykernel)",
   "language": "python",
   "name": "python3"
  },
  "language_info": {
   "codemirror_mode": {
    "name": "ipython",
    "version": 3
   },
   "file_extension": ".py",
   "mimetype": "text/x-python",
   "name": "python",
   "nbconvert_exporter": "python",
   "pygments_lexer": "ipython3",
   "version": "3.11.5"
  }
 },
 "nbformat": 4,
 "nbformat_minor": 5
}
