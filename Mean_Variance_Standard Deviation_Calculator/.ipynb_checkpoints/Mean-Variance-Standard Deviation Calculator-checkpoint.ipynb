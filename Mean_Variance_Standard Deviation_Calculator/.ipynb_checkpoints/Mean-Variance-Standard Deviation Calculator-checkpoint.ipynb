{
 "cells": [
  {
   "cell_type": "code",
   "execution_count": 1,
   "id": "2e28918d",
   "metadata": {},
   "outputs": [],
   "source": [
    "import pandas as pd\n",
    "import numpy as np"
   ]
  },
  {
   "cell_type": "code",
   "execution_count": 8,
   "id": "9fcf4e89-3bdf-4e32-b086-73b74360935d",
   "metadata": {},
   "outputs": [
    {
     "name": "stdin",
     "output_type": "stream",
     "text": [
      "Enter a number 0\n",
      "Enter a number 1\n",
      "Enter a number 2\n",
      "Enter a number 3\n",
      "Enter a number 4\n",
      "Enter a number 5\n",
      "Enter a number 6\n",
      "Enter a number 7\n",
      "Enter a number 8\n"
     ]
    },
    {
     "name": "stdout",
     "output_type": "stream",
     "text": [
      "[0, 1, 2, 3, 4, 5, 6, 7, 8]\n"
     ]
    }
   ],
   "source": [
    "c = [] \n",
    "while len(c) < 9:\n",
    "    A = int(input('Enter a number')) \n",
    "    c.append(A)\n",
    "\n",
    "print(c) "
   ]
  },
  {
   "cell_type": "code",
   "execution_count": 60,
   "id": "08964920",
   "metadata": {},
   "outputs": [],
   "source": [
    "def calculate (c):\n",
    "    result = {}\n",
    "    row_means, row_vars, row_stds, row_maxs, row_mins, row_sums = [], [], [], [], [], []\n",
    "    col_means, col_vars, col_stds, col_maxs, col_mins, col_sums = [], [], [], [], [], []\n",
    "\n",
    "    if len(c) < 9:\n",
    "        print(\"List must contain nine numbers\")\n",
    "    elif len(c) == 9:\n",
    "        c = np.array(List)\n",
    "        c = c.reshape(3,3)\n",
    "        for r in range(0,3):\n",
    "            \n",
    "            row_mean = c[r].mean()\n",
    "            row_var = c[r].var()\n",
    "            row_std = c[r].std()\n",
    "            row_max = c[r].max()\n",
    "            row_min = c[r].min()\n",
    "            row_sum = c[r].sum()\n",
    "            \n",
    "            # Appending the row operations\n",
    "            row_means.append(row_mean)\n",
    "            row_vars.append(row_var)\n",
    "            row_stds.append(row_std)\n",
    "            row_maxs.append(row_max)\n",
    "            row_mins.append(row_min)\n",
    "            row_sums.append(row_sum)\n",
    "            \n",
    "            col_mean =c[:,r].mean()\n",
    "            col_var = c[:,r].var()\n",
    "            col_std = c[:,r].std()\n",
    "            col_max = c[:,r].max()\n",
    "            col_min = c[:,r].min()\n",
    "            col_sum = c[:,r].sum()\n",
    "            \n",
    "             # Appending the row operations\n",
    "            col_means.append(col_mean)\n",
    "            col_vars.append(col_var)\n",
    "            col_stds.append(col_std)\n",
    "            col_maxs.append(col_max)\n",
    "            col_mins.append(col_min)\n",
    "            col_sums.append(col_sum)\n",
    "            print(row_means)\n",
    "        result[\"mean\"] = [row_means,col_means,c.mean()]\n",
    "        result[\"variance\"] = [row_vars,col_vars,c.var()]\n",
    "        result[\"standard deviation\"] = [row_stds,col_stds,c.std()]\n",
    "        result[\"max\"] = [row_maxs,col_maxs,c.max()]\n",
    "        result[\"min\"] = [row_mins,col_mins,c.min()]\n",
    "        result[\"sum\"] = [row_sums,col_sums,c.sum()]\n",
    "        print(result)\n"
   ]
  },
  {
   "cell_type": "code",
   "execution_count": 61,
   "id": "2ffef549",
   "metadata": {},
   "outputs": [
    {
     "name": "stdout",
     "output_type": "stream",
     "text": [
      "[1.0]\n",
      "[1.0, 4.0]\n",
      "[1.0, 4.0, 7.0]\n",
      "{'mean': [[1.0, 4.0, 7.0], [3.0, 4.0, 5.0], 4.0], 'variance': [[0.6666666666666666, 0.6666666666666666, 0.6666666666666666], [6.0, 6.0, 6.0], 6.666666666666667], 'standard deviation': [[0.816496580927726, 0.816496580927726, 0.816496580927726], [2.449489742783178, 2.449489742783178, 2.449489742783178], 2.581988897471611], 'max': [[2, 5, 8], [6, 7, 8], 8], 'min': [[0, 3, 6], [0, 1, 2], 0], 'sum': [[3, 12, 21], [9, 12, 15], 36]}\n"
     ]
    }
   ],
   "source": [
    "calculate(List)"
   ]
  },
  {
   "cell_type": "code",
   "execution_count": 8,
   "id": "e5144472",
   "metadata": {},
   "outputs": [
    {
     "name": "stdin",
     "output_type": "stream",
     "text": [
      "Enter a number 0\n",
      "Enter a number 1\n",
      "Enter a number 2\n",
      "Enter a number 3\n",
      "Enter a number 4\n",
      "Enter a number 5\n",
      "Enter a number 6\n",
      "Enter a number 7\n",
      "Enter a number 8\n"
     ]
    },
    {
     "name": "stdout",
     "output_type": "stream",
     "text": [
      "[0, 1, 2, 3, 4, 5, 6, 7, 8]\n"
     ]
    }
   ],
   "source": [
    "c = [] \n",
    "while len(c) < 9:\n",
    "    A = int(input('Enter a number')) \n",
    "    c.append(A)\n",
    "\n",
    "print(c) "
   ]
  },
  {
   "cell_type": "code",
   "execution_count": 5,
   "id": "e10a9cdd-3a9d-4f65-8b5a-ebb670189383",
   "metadata": {},
   "outputs": [
    {
     "data": {
      "text/plain": [
       "array(1234567897)"
      ]
     },
     "execution_count": 5,
     "metadata": {},
     "output_type": "execute_result"
    }
   ],
   "source": [
    "List"
   ]
  },
  {
   "cell_type": "code",
   "execution_count": null,
   "id": "b086d836-7844-4821-8e70-8ca932869fba",
   "metadata": {},
   "outputs": [],
   "source": []
  }
 ],
 "metadata": {
  "kernelspec": {
   "display_name": "Python 3 (ipykernel)",
   "language": "python",
   "name": "python3"
  },
  "language_info": {
   "codemirror_mode": {
    "name": "ipython",
    "version": 3
   },
   "file_extension": ".py",
   "mimetype": "text/x-python",
   "name": "python",
   "nbconvert_exporter": "python",
   "pygments_lexer": "ipython3",
   "version": "3.11.5"
  }
 },
 "nbformat": 4,
 "nbformat_minor": 5
}
